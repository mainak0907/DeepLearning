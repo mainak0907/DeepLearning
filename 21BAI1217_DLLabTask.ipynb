{
  "nbformat": 4,
  "nbformat_minor": 0,
  "metadata": {
    "colab": {
      "provenance": []
    },
    "kernelspec": {
      "name": "python3",
      "display_name": "Python 3"
    },
    "language_info": {
      "name": "python"
    }
  },
  "cells": [
    {
      "cell_type": "code",
      "execution_count": 1,
      "metadata": {
        "colab": {
          "base_uri": "https://localhost:8080/"
        },
        "id": "arX6g6x2V9Mn",
        "outputId": "9485f2ae-c5af-4c0d-f9af-31a9c051a78a"
      },
      "outputs": [
        {
          "output_type": "stream",
          "name": "stdout",
          "text": [
            "Archive:  /content/Images_CNNTask.zip\n",
            "   creating: Images_CNNTask/Class0/\n",
            " extracting: Images_CNNTask/Class0/CG001_M_L.png  \n",
            " extracting: Images_CNNTask/Class0/CG001_M_R.png  \n",
            " extracting: Images_CNNTask/Class0/CG002_M_L.png  \n",
            " extracting: Images_CNNTask/Class0/CG002_M_R.png  \n",
            "  inflating: Images_CNNTask/Class0/CG003_M_L.png  \n",
            "  inflating: Images_CNNTask/Class0/CG003_M_R.png  \n",
            "  inflating: Images_CNNTask/Class0/CG004_F_L.png  \n",
            " extracting: Images_CNNTask/Class0/CG004_F_R.png  \n",
            " extracting: Images_CNNTask/Class0/CG005_F_L.png  \n",
            " extracting: Images_CNNTask/Class0/CG005_F_R.png  \n",
            " extracting: Images_CNNTask/Class0/CG006_F_L.png  \n",
            " extracting: Images_CNNTask/Class0/CG006_F_R.png  \n",
            " extracting: Images_CNNTask/Class0/CG007_F_L.png  \n",
            " extracting: Images_CNNTask/Class0/CG007_F_R.png  \n",
            " extracting: Images_CNNTask/Class0/CG008_F_L.png  \n",
            " extracting: Images_CNNTask/Class0/CG008_F_R.png  \n",
            " extracting: Images_CNNTask/Class0/CG009_M_L.png  \n",
            " extracting: Images_CNNTask/Class0/CG009_M_R.png  \n",
            " extracting: Images_CNNTask/Class0/CG010_M_L.png  \n",
            " extracting: Images_CNNTask/Class0/CG011_F_L.png  \n",
            " extracting: Images_CNNTask/Class0/CG011_F_R.png  \n",
            " extracting: Images_CNNTask/Class0/CG012_F_L.png  \n",
            " extracting: Images_CNNTask/Class0/CG012_F_R.png  \n",
            " extracting: Images_CNNTask/Class0/CG013_M_L.png  \n",
            " extracting: Images_CNNTask/Class0/CG013_M_R.png  \n",
            " extracting: Images_CNNTask/Class0/CG014_M_L.png  \n",
            " extracting: Images_CNNTask/Class0/CG014_M_R.png  \n",
            " extracting: Images_CNNTask/Class0/CG015_M_L.png  \n",
            " extracting: Images_CNNTask/Class0/CG015_M_R.png  \n",
            " extracting: Images_CNNTask/Class0/CG016_M_L.png  \n",
            " extracting: Images_CNNTask/Class0/CG016_M_R.png  \n",
            " extracting: Images_CNNTask/Class0/CG017_F_L.png  \n",
            " extracting: Images_CNNTask/Class0/CG017_F_R.png  \n",
            " extracting: Images_CNNTask/Class0/CG018_M_L.png  \n",
            " extracting: Images_CNNTask/Class0/CG018_M_R.png  \n",
            " extracting: Images_CNNTask/Class0/CG019_F_L.png  \n",
            " extracting: Images_CNNTask/Class0/CG019_F_R.png  \n",
            " extracting: Images_CNNTask/Class0/CG020_F_L.png  \n",
            " extracting: Images_CNNTask/Class0/CG020_F_R.png  \n",
            " extracting: Images_CNNTask/Class0/CG021_M_L.png  \n",
            " extracting: Images_CNNTask/Class0/CG021_M_R.png  \n",
            " extracting: Images_CNNTask/Class0/CG022_M_L.png  \n",
            " extracting: Images_CNNTask/Class0/CG022_M_R.png  \n",
            " extracting: Images_CNNTask/Class0/CG023_F_L.png  \n",
            " extracting: Images_CNNTask/Class0/CG023_F_R.png  \n",
            " extracting: Images_CNNTask/Class0/CG024_F_L.png  \n",
            " extracting: Images_CNNTask/Class0/CG024_F_R.png  \n",
            " extracting: Images_CNNTask/Class0/CG025_M_L.png  \n",
            " extracting: Images_CNNTask/Class0/CG025_M_R.png  \n",
            " extracting: Images_CNNTask/Class0/CG026_M_L.png  \n",
            " extracting: Images_CNNTask/Class0/CG026_M_R.png  \n",
            "  inflating: Images_CNNTask/Class0/CG027_M_L.png  \n",
            "  inflating: Images_CNNTask/Class0/CG027_M_R.png  \n",
            " extracting: Images_CNNTask/Class0/CG028_M_L.png  \n",
            " extracting: Images_CNNTask/Class0/CG028_M_R.png  \n",
            " extracting: Images_CNNTask/Class0/CG029_F_L.png  \n",
            " extracting: Images_CNNTask/Class0/CG029_F_R.png  \n",
            " extracting: Images_CNNTask/Class0/CG030_M_L.png  \n",
            " extracting: Images_CNNTask/Class0/CG030_M_R.png  \n",
            "  inflating: Images_CNNTask/Class0/CG031_M_L.png  \n",
            "  inflating: Images_CNNTask/Class0/CG031_M_R.png  \n",
            "  inflating: Images_CNNTask/Class0/CG032_M_L.png  \n",
            "  inflating: Images_CNNTask/Class0/CG032_M_R.png  \n",
            "  inflating: Images_CNNTask/Class0/CG033_M_L.png  \n",
            " extracting: Images_CNNTask/Class0/CG033_M_R.png  \n",
            "  inflating: Images_CNNTask/Class0/CG034_M_L.png  \n",
            "  inflating: Images_CNNTask/Class0/CG034_M_R.png  \n",
            "  inflating: Images_CNNTask/Class0/CG035_M_L.png  \n",
            "  inflating: Images_CNNTask/Class0/CG035_M_R.png  \n",
            " extracting: Images_CNNTask/Class0/CG036_M_L.png  \n",
            " extracting: Images_CNNTask/Class0/CG036_M_R.png  \n",
            " extracting: Images_CNNTask/Class0/CG037_M_L.png  \n",
            " extracting: Images_CNNTask/Class0/CG037_M_R.png  \n",
            "  inflating: Images_CNNTask/Class0/CG038_M_L.png  \n",
            "  inflating: Images_CNNTask/Class0/CG038_M_R.png  \n",
            "  inflating: Images_CNNTask/Class0/CG039_M_L.png  \n",
            " extracting: Images_CNNTask/Class0/CG040_M_L.png  \n",
            " extracting: Images_CNNTask/Class0/CG040_M_R.png  \n",
            " extracting: Images_CNNTask/Class0/CG041_F_L.png  \n",
            " extracting: Images_CNNTask/Class0/CG041_F_R.png  \n",
            " extracting: Images_CNNTask/Class0/CG042_F_L.png  \n",
            " extracting: Images_CNNTask/Class0/CG042_F_R.png  \n",
            " extracting: Images_CNNTask/Class0/CG043_M_L.png  \n",
            " extracting: Images_CNNTask/Class0/CG043_M_R.png  \n",
            " extracting: Images_CNNTask/Class0/CG044_F_L.png  \n",
            " extracting: Images_CNNTask/Class0/CG044_F_R.png  \n",
            " extracting: Images_CNNTask/Class0/CG045_M_L.png  \n",
            " extracting: Images_CNNTask/Class0/CG045_M_R.png  \n",
            "   creating: Images_CNNTask/Class1/\n",
            " extracting: Images_CNNTask/Class1/DM001_M_L.png  \n",
            " extracting: Images_CNNTask/Class1/DM001_M_R.png  \n",
            " extracting: Images_CNNTask/Class1/DM002_M_L.png  \n",
            " extracting: Images_CNNTask/Class1/DM002_M_R.png  \n",
            " extracting: Images_CNNTask/Class1/DM003_F_L.png  \n",
            " extracting: Images_CNNTask/Class1/DM003_F_R.png  \n",
            " extracting: Images_CNNTask/Class1/DM004_M_L.png  \n",
            " extracting: Images_CNNTask/Class1/DM004_M_R.png  \n",
            " extracting: Images_CNNTask/Class1/DM005_M_L.png  \n",
            " extracting: Images_CNNTask/Class1/DM005_M_R.png  \n",
            " extracting: Images_CNNTask/Class1/DM006_F_L.png  \n",
            " extracting: Images_CNNTask/Class1/DM006_F_R.png  \n",
            " extracting: Images_CNNTask/Class1/DM007_F_L.png  \n",
            " extracting: Images_CNNTask/Class1/DM007_F_R.png  \n",
            " extracting: Images_CNNTask/Class1/DM008_M_L.png  \n",
            " extracting: Images_CNNTask/Class1/DM008_M_R.png  \n",
            " extracting: Images_CNNTask/Class1/DM009_F_L.png  \n",
            " extracting: Images_CNNTask/Class1/DM009_F_R.png  \n",
            " extracting: Images_CNNTask/Class1/DM010_M_L.png  \n",
            " extracting: Images_CNNTask/Class1/DM010_M_R.png  \n",
            " extracting: Images_CNNTask/Class1/DM011_F_L.png  \n",
            " extracting: Images_CNNTask/Class1/DM011_F_R.png  \n",
            " extracting: Images_CNNTask/Class1/DM012_F_L.png  \n",
            " extracting: Images_CNNTask/Class1/DM012_F_R.png  \n",
            " extracting: Images_CNNTask/Class1/DM013_F_L.png  \n",
            " extracting: Images_CNNTask/Class1/DM013_F_R.png  \n",
            " extracting: Images_CNNTask/Class1/DM014_F_L.png  \n",
            " extracting: Images_CNNTask/Class1/DM014_F_R.png  \n",
            " extracting: Images_CNNTask/Class1/DM015_M_L.png  \n",
            " extracting: Images_CNNTask/Class1/DM015_M_R.png  \n",
            " extracting: Images_CNNTask/Class1/DM016_F_L.png  \n",
            " extracting: Images_CNNTask/Class1/DM016_F_R.png  \n",
            " extracting: Images_CNNTask/Class1/DM017_F_L.png  \n",
            " extracting: Images_CNNTask/Class1/DM017_F_R.png  \n",
            " extracting: Images_CNNTask/Class1/DM018_M_L.png  \n",
            " extracting: Images_CNNTask/Class1/DM018_M_R.png  \n",
            " extracting: Images_CNNTask/Class1/DM019_F_L.png  \n",
            " extracting: Images_CNNTask/Class1/DM019_F_R.png  \n",
            " extracting: Images_CNNTask/Class1/DM020_F_L.png  \n",
            " extracting: Images_CNNTask/Class1/DM020_F_R.png  \n",
            " extracting: Images_CNNTask/Class1/DM021_F_L.png  \n",
            " extracting: Images_CNNTask/Class1/DM021_F_R.png  \n",
            " extracting: Images_CNNTask/Class1/DM022_F_L.png  \n",
            " extracting: Images_CNNTask/Class1/DM022_F_R.png  \n",
            " extracting: Images_CNNTask/Class1/DM023_F_L.png  \n",
            " extracting: Images_CNNTask/Class1/DM023_F_R.png  \n",
            " extracting: Images_CNNTask/Class1/DM024_M_L.png  \n",
            " extracting: Images_CNNTask/Class1/DM024_M_R.png  \n",
            " extracting: Images_CNNTask/Class1/DM025_M_L.png  \n",
            " extracting: Images_CNNTask/Class1/DM025_M_R.png  \n",
            " extracting: Images_CNNTask/Class1/DM026_M_L.png  \n",
            " extracting: Images_CNNTask/Class1/DM026_M_R.png  \n",
            " extracting: Images_CNNTask/Class1/DM027_M_L.png  \n",
            " extracting: Images_CNNTask/Class1/DM027_M_R.png  \n",
            " extracting: Images_CNNTask/Class1/DM028_M_L.png  \n",
            " extracting: Images_CNNTask/Class1/DM028_M_R.png  \n",
            " extracting: Images_CNNTask/Class1/DM029_F_L.png  \n",
            " extracting: Images_CNNTask/Class1/DM029_F_R.png  \n",
            " extracting: Images_CNNTask/Class1/DM030_F_L.png  \n",
            " extracting: Images_CNNTask/Class1/DM030_F_R.png  \n",
            " extracting: Images_CNNTask/Class1/DM031_F_L.png  \n",
            " extracting: Images_CNNTask/Class1/DM031_F_R.png  \n",
            " extracting: Images_CNNTask/Class1/DM032_M_L.png  \n",
            " extracting: Images_CNNTask/Class1/DM032_M_R.png  \n",
            " extracting: Images_CNNTask/Class1/DM033_M_L.png  \n",
            " extracting: Images_CNNTask/Class1/DM033_M_R.png  \n",
            "  inflating: Images_CNNTask/Class1/DM034_F_L.png  \n",
            "  inflating: Images_CNNTask/Class1/DM034_F_R.png  \n",
            " extracting: Images_CNNTask/Class1/DM035_F_L.png  \n",
            " extracting: Images_CNNTask/Class1/DM035_F_R.png  \n",
            " extracting: Images_CNNTask/Class1/DM036_M_L.png  \n",
            "  inflating: Images_CNNTask/Class1/DM036_M_R.png  \n",
            " extracting: Images_CNNTask/Class1/DM037_F_L.png  \n",
            " extracting: Images_CNNTask/Class1/DM037_F_R.png  \n",
            " extracting: Images_CNNTask/Class1/DM038_F_L.png  \n",
            " extracting: Images_CNNTask/Class1/DM038_F_R.png  \n",
            " extracting: Images_CNNTask/Class1/DM039_M_L.png  \n",
            " extracting: Images_CNNTask/Class1/DM039_M_R.png  \n",
            " extracting: Images_CNNTask/Class1/DM040_F_L.png  \n",
            " extracting: Images_CNNTask/Class1/DM040_F_R.png  \n",
            " extracting: Images_CNNTask/Class1/DM041_M_L.png  \n",
            " extracting: Images_CNNTask/Class1/DM041_M_R.png  \n",
            " extracting: Images_CNNTask/Class1/DM042_F_L.png  \n",
            " extracting: Images_CNNTask/Class1/DM042_F_R.png  \n",
            " extracting: Images_CNNTask/Class1/DM043_M_L.png  \n",
            " extracting: Images_CNNTask/Class1/DM043_M_R.png  \n",
            " extracting: Images_CNNTask/Class1/DM044_F_L.png  \n",
            " extracting: Images_CNNTask/Class1/DM044_F_R.png  \n",
            " extracting: Images_CNNTask/Class1/DM045_F_L.png  \n",
            " extracting: Images_CNNTask/Class1/DM045_F_R.png  \n",
            " extracting: Images_CNNTask/Class1/DM046_M_L.png  \n",
            " extracting: Images_CNNTask/Class1/DM046_M_R.png  \n",
            " extracting: Images_CNNTask/Class1/DM047_F_L.png  \n",
            " extracting: Images_CNNTask/Class1/DM047_F_R.png  \n",
            " extracting: Images_CNNTask/Class1/DM048_F_L.png  \n",
            " extracting: Images_CNNTask/Class1/DM048_F_R.png  \n",
            " extracting: Images_CNNTask/Class1/DM049_F_L.png  \n",
            " extracting: Images_CNNTask/Class1/DM049_F_R.png  \n",
            " extracting: Images_CNNTask/Class1/DM050_F_L.png  \n",
            " extracting: Images_CNNTask/Class1/DM050_F_R.png  \n",
            " extracting: Images_CNNTask/Class1/DM051_F_L.png  \n",
            " extracting: Images_CNNTask/Class1/DM051_F_R.png  \n",
            " extracting: Images_CNNTask/Class1/DM052_F_L.png  \n",
            " extracting: Images_CNNTask/Class1/DM052_F_R.png  \n",
            " extracting: Images_CNNTask/Class1/DM053_M_L.png  \n",
            " extracting: Images_CNNTask/Class1/DM053_M_R.png  \n",
            " extracting: Images_CNNTask/Class1/DM054_F_L.png  \n",
            " extracting: Images_CNNTask/Class1/DM054_F_R.png  \n",
            " extracting: Images_CNNTask/Class1/DM055_F_L.png  \n",
            " extracting: Images_CNNTask/Class1/DM055_F_R.png  \n",
            "  inflating: Images_CNNTask/Class1/DM056_F_L.png  \n",
            "  inflating: Images_CNNTask/Class1/DM056_F_R.png  \n",
            " extracting: Images_CNNTask/Class1/DM057_F_L.png  \n",
            " extracting: Images_CNNTask/Class1/DM057_F_R.png  \n",
            " extracting: Images_CNNTask/Class1/DM058_F_L.png  \n",
            " extracting: Images_CNNTask/Class1/DM058_F_R.png  \n",
            " extracting: Images_CNNTask/Class1/DM059_F_L.png  \n",
            " extracting: Images_CNNTask/Class1/DM059_F_R.png  \n",
            " extracting: Images_CNNTask/Class1/DM060_F_L.png  \n",
            " extracting: Images_CNNTask/Class1/DM060_F_R.png  \n",
            " extracting: Images_CNNTask/Class1/DM061_F_L.png  \n",
            " extracting: Images_CNNTask/Class1/DM061_F_R.png  \n",
            " extracting: Images_CNNTask/Class1/DM062_M_L.png  \n",
            " extracting: Images_CNNTask/Class1/DM062_M_R.png  \n",
            " extracting: Images_CNNTask/Class1/DM063_F_L.png  \n",
            " extracting: Images_CNNTask/Class1/DM063_F_R.png  \n",
            " extracting: Images_CNNTask/Class1/DM064_M_L.png  \n",
            " extracting: Images_CNNTask/Class1/DM064_M_R.png  \n",
            " extracting: Images_CNNTask/Class1/DM065_F_L.png  \n",
            " extracting: Images_CNNTask/Class1/DM065_F_R.png  \n",
            " extracting: Images_CNNTask/Class1/DM066_F_L.png  \n",
            " extracting: Images_CNNTask/Class1/DM066_F_R.png  \n",
            " extracting: Images_CNNTask/Class1/DM067_F_L.png  \n",
            " extracting: Images_CNNTask/Class1/DM067_F_R.png  \n",
            " extracting: Images_CNNTask/Class1/DM068_F_L.png  \n",
            " extracting: Images_CNNTask/Class1/DM068_F_R.png  \n",
            " extracting: Images_CNNTask/Class1/DM069_F_L.png  \n",
            " extracting: Images_CNNTask/Class1/DM069_F_R.png  \n",
            " extracting: Images_CNNTask/Class1/DM070_F_L.png  \n",
            " extracting: Images_CNNTask/Class1/DM070_F_R.png  \n",
            " extracting: Images_CNNTask/Class1/DM071_F_L.png  \n",
            " extracting: Images_CNNTask/Class1/DM071_F_R.png  \n",
            " extracting: Images_CNNTask/Class1/DM072_F_L.png  \n",
            " extracting: Images_CNNTask/Class1/DM072_F_R.png  \n",
            " extracting: Images_CNNTask/Class1/DM073_F_L.png  \n",
            " extracting: Images_CNNTask/Class1/DM073_F_R.png  \n",
            " extracting: Images_CNNTask/Class1/DM074_F_L.png  \n",
            " extracting: Images_CNNTask/Class1/DM074_F_R.png  \n",
            " extracting: Images_CNNTask/Class1/DM075_F_L.png  \n",
            " extracting: Images_CNNTask/Class1/DM075_F_R.png  \n",
            " extracting: Images_CNNTask/Class1/DM076_M_L.png  \n",
            " extracting: Images_CNNTask/Class1/DM076_M_R.png  \n",
            " extracting: Images_CNNTask/Class1/DM077_F_L.png  \n",
            " extracting: Images_CNNTask/Class1/DM077_F_R.png  \n",
            " extracting: Images_CNNTask/Class1/DM078_F_L.png  \n",
            " extracting: Images_CNNTask/Class1/DM078_F_R.png  \n",
            " extracting: Images_CNNTask/Class1/DM079_M_L.png  \n",
            " extracting: Images_CNNTask/Class1/DM079_M_R.png  \n",
            " extracting: Images_CNNTask/Class1/DM080_F_L.png  \n",
            " extracting: Images_CNNTask/Class1/DM080_F_R.png  \n",
            " extracting: Images_CNNTask/Class1/DM081_F_L.png  \n",
            " extracting: Images_CNNTask/Class1/DM081_F_R.png  \n",
            " extracting: Images_CNNTask/Class1/DM082_F_L.png  \n",
            " extracting: Images_CNNTask/Class1/DM082_F_R.png  \n",
            " extracting: Images_CNNTask/Class1/DM083_M_L.png  \n",
            " extracting: Images_CNNTask/Class1/DM083_M_R.png  \n",
            " extracting: Images_CNNTask/Class1/DM084_F_L.png  \n",
            " extracting: Images_CNNTask/Class1/DM084_F_R.png  \n",
            " extracting: Images_CNNTask/Class1/DM085_F_L.png  \n",
            " extracting: Images_CNNTask/Class1/DM085_F_R.png  \n",
            " extracting: Images_CNNTask/Class1/DM086_F_L.png  \n",
            " extracting: Images_CNNTask/Class1/DM086_F_R.png  \n",
            " extracting: Images_CNNTask/Class1/DM087_F_L.png  \n",
            " extracting: Images_CNNTask/Class1/DM087_F_R.png  \n",
            " extracting: Images_CNNTask/Class1/DM088_M_L.png  \n",
            " extracting: Images_CNNTask/Class1/DM088_M_R.png  \n",
            " extracting: Images_CNNTask/Class1/DM089_F_L.png  \n",
            " extracting: Images_CNNTask/Class1/DM089_F_R.png  \n",
            " extracting: Images_CNNTask/Class1/DM090_F_L.png  \n",
            " extracting: Images_CNNTask/Class1/DM090_F_R.png  \n",
            " extracting: Images_CNNTask/Class1/DM091_M_L.png  \n",
            " extracting: Images_CNNTask/Class1/DM091_M_R.png  \n",
            " extracting: Images_CNNTask/Class1/DM092_F_R.png  \n",
            " extracting: Images_CNNTask/Class1/DM093_F_L.png  \n",
            " extracting: Images_CNNTask/Class1/DM093_F_R.png  \n",
            " extracting: Images_CNNTask/Class1/DM094_F_L.png  \n",
            " extracting: Images_CNNTask/Class1/DM094_F_R.png  \n",
            " extracting: Images_CNNTask/Class1/DM095_F_L.png  \n",
            " extracting: Images_CNNTask/Class1/DM095_F_R.png  \n",
            " extracting: Images_CNNTask/Class1/DM096_M_L.png  \n",
            " extracting: Images_CNNTask/Class1/DM096_M_R.png  \n",
            " extracting: Images_CNNTask/Class1/DM097_F_L.png  \n",
            " extracting: Images_CNNTask/Class1/DM097_F_R.png  \n",
            " extracting: Images_CNNTask/Class1/DM098_M_L.png  \n",
            " extracting: Images_CNNTask/Class1/DM098_M_R.png  \n",
            " extracting: Images_CNNTask/Class1/DM099_F_L.png  \n",
            " extracting: Images_CNNTask/Class1/DM099_F_R.png  \n",
            " extracting: Images_CNNTask/Class1/DM100_F_L.png  \n",
            " extracting: Images_CNNTask/Class1/DM100_F_R.png  \n",
            " extracting: Images_CNNTask/Class1/DM101_F_L.png  \n",
            " extracting: Images_CNNTask/Class1/DM101_F_R.png  \n",
            " extracting: Images_CNNTask/Class1/DM102_F_L.png  \n",
            " extracting: Images_CNNTask/Class1/DM102_F_R.png  \n",
            " extracting: Images_CNNTask/Class1/DM103_F_L.png  \n",
            " extracting: Images_CNNTask/Class1/DM103_F_R.png  \n",
            " extracting: Images_CNNTask/Class1/DM104_F_L.png  \n",
            " extracting: Images_CNNTask/Class1/DM104_F_R.png  \n",
            " extracting: Images_CNNTask/Class1/DM105_F_L.png  \n",
            " extracting: Images_CNNTask/Class1/DM105_F_R.png  \n",
            " extracting: Images_CNNTask/Class1/DM106_F_L.png  \n",
            " extracting: Images_CNNTask/Class1/DM106_F_R.png  \n",
            " extracting: Images_CNNTask/Class1/DM107_M_L.png  \n",
            " extracting: Images_CNNTask/Class1/DM107_M_R.png  \n",
            " extracting: Images_CNNTask/Class1/DM108_F_L.png  \n",
            " extracting: Images_CNNTask/Class1/DM108_F_R.png  \n",
            " extracting: Images_CNNTask/Class1/DM109_F_L.png  \n",
            " extracting: Images_CNNTask/Class1/DM109_F_R.png  \n",
            " extracting: Images_CNNTask/Class1/DM110_F_L.png  \n",
            " extracting: Images_CNNTask/Class1/DM110_F_R.png  \n",
            " extracting: Images_CNNTask/Class1/DM111_F_L.png  \n",
            " extracting: Images_CNNTask/Class1/DM111_F_R.png  \n",
            " extracting: Images_CNNTask/Class1/DM112_M_L.png  \n",
            " extracting: Images_CNNTask/Class1/DM112_M_R.png  \n",
            " extracting: Images_CNNTask/Class1/DM113_F_L.png  \n",
            " extracting: Images_CNNTask/Class1/DM113_F_R.png  \n",
            " extracting: Images_CNNTask/Class1/DM114_F_L.png  \n",
            " extracting: Images_CNNTask/Class1/DM114_F_R.png  \n",
            " extracting: Images_CNNTask/Class1/DM115_F_L.png  \n",
            " extracting: Images_CNNTask/Class1/DM115_F_R.png  \n",
            " extracting: Images_CNNTask/Class1/DM116_F_L.png  \n",
            " extracting: Images_CNNTask/Class1/DM116_F_R.png  \n",
            " extracting: Images_CNNTask/Class1/DM117_F_L.png  \n",
            " extracting: Images_CNNTask/Class1/DM117_F_R.png  \n",
            " extracting: Images_CNNTask/Class1/DM118_M_L.png  \n",
            " extracting: Images_CNNTask/Class1/DM118_M_R.png  \n",
            " extracting: Images_CNNTask/Class1/DM119_F_L.png  \n",
            " extracting: Images_CNNTask/Class1/DM119_F_R.png  \n",
            " extracting: Images_CNNTask/Class1/DM120_F_L.png  \n",
            " extracting: Images_CNNTask/Class1/DM120_F_R.png  \n",
            " extracting: Images_CNNTask/Class1/DM121_F_L.png  \n",
            " extracting: Images_CNNTask/Class1/DM121_F_R.png  \n",
            " extracting: Images_CNNTask/Class1/DM122_F_L.png  \n",
            " extracting: Images_CNNTask/Class1/DM122_F_R.png  \n"
          ]
        }
      ],
      "source": [
        "!unzip /content/Images_CNNTask.zip"
      ]
    },
    {
      "cell_type": "code",
      "source": [
        "import numpy as np\n",
        "import tensorflow as tf\n",
        "from tensorflow.keras.applications import VGG16\n",
        "from tensorflow.keras.models import Model\n",
        "from tensorflow.keras.layers import Dense, Dropout, GlobalAveragePooling2D\n",
        "from tensorflow.keras.preprocessing.image import ImageDataGenerator\n",
        "from sklearn.model_selection import train_test_split, StratifiedKFold\n",
        "from sklearn.metrics import accuracy_score, precision_score, recall_score, f1_score"
      ],
      "metadata": {
        "id": "R6IxA3gvXGFQ"
      },
      "execution_count": 2,
      "outputs": []
    },
    {
      "cell_type": "code",
      "source": [
        "batch_size = 32\n",
        "num_epochs = 10\n",
        "num_classes = 2\n",
        "\n",
        "train_datagen = ImageDataGenerator(\n",
        "    rescale=1./255,\n",
        "    rotation_range=20,\n",
        "    width_shift_range=0.2,\n",
        "    height_shift_range=0.2,\n",
        "    shear_range=0.2,\n",
        "    zoom_range=0.2,\n",
        "    horizontal_flip=True,\n",
        "    validation_split=0.2)  # Splitting data into training and validation sets\n",
        "\n",
        "train_generator = train_datagen.flow_from_directory(\n",
        "    'Images_CNNTask',\n",
        "    target_size=(224, 224),  # Assuming VGG16 input size\n",
        "    batch_size=batch_size,\n",
        "    class_mode='categorical',\n",
        "    subset='training')  # Training data\n",
        "\n",
        "validation_generator = train_datagen.flow_from_directory(\n",
        "    'Images_CNNTask',\n",
        "    target_size=(224, 224),  # Assuming VGG16 input size\n",
        "    batch_size=batch_size,\n",
        "    class_mode='categorical',\n",
        "    subset='validation')  # Validation data"
      ],
      "metadata": {
        "colab": {
          "base_uri": "https://localhost:8080/"
        },
        "id": "uYsS6eMfXu7r",
        "outputId": "e098e842-b149-4474-be41-2547a6cd4152"
      },
      "execution_count": 4,
      "outputs": [
        {
          "output_type": "stream",
          "name": "stdout",
          "text": [
            "Found 266 images belonging to 2 classes.\n",
            "Found 65 images belonging to 2 classes.\n"
          ]
        }
      ]
    },
    {
      "cell_type": "code",
      "source": [
        "# Step 2: Choice of Pre-trained CNN Model (VGG16)\n",
        "base_model = VGG16(weights='imagenet', include_top=False, input_shape=(224, 224, 3))\n"
      ],
      "metadata": {
        "colab": {
          "base_uri": "https://localhost:8080/"
        },
        "id": "iv28gGASYVyS",
        "outputId": "9b8dcfce-c7ca-4a2d-8693-67e74e0388bb"
      },
      "execution_count": 5,
      "outputs": [
        {
          "output_type": "stream",
          "name": "stdout",
          "text": [
            "Downloading data from https://storage.googleapis.com/tensorflow/keras-applications/vgg16/vgg16_weights_tf_dim_ordering_tf_kernels_notop.h5\n",
            "58889256/58889256 [==============================] - 0s 0us/step\n"
          ]
        }
      ]
    },
    {
      "cell_type": "code",
      "source": [
        "# Step 3: Initializing and Modifying the Model\n",
        "x = base_model.output\n",
        "x = GlobalAveragePooling2D()(x)\n",
        "x = Dense(1024, activation='relu')(x)\n",
        "predictions = Dense(num_classes, activation='softmax')(x)\n"
      ],
      "metadata": {
        "id": "0kcfhww1YYYy"
      },
      "execution_count": 6,
      "outputs": []
    },
    {
      "cell_type": "code",
      "source": [
        "model = Model(inputs=base_model.input, outputs=predictions)"
      ],
      "metadata": {
        "id": "tA16lSnRYcqp"
      },
      "execution_count": 7,
      "outputs": []
    },
    {
      "cell_type": "code",
      "source": [
        "# Freeze layers in base model\n",
        "for layer in base_model.layers:\n",
        "    layer.trainable = False"
      ],
      "metadata": {
        "id": "6hXUf9PeYiHy"
      },
      "execution_count": 8,
      "outputs": []
    },
    {
      "cell_type": "code",
      "source": [
        "# Step 4: Fine-tuning with Regularization Techniques\n",
        "model.compile(optimizer='adam', loss='categorical_crossentropy', metrics=['accuracy'])"
      ],
      "metadata": {
        "id": "hfQQH--5Ylni"
      },
      "execution_count": 9,
      "outputs": []
    },
    {
      "cell_type": "code",
      "source": [
        "history = model.fit(\n",
        "    train_generator,\n",
        "    steps_per_epoch=train_generator.samples // batch_size,\n",
        "    epochs=num_epochs,\n",
        "    validation_data=validation_generator,\n",
        "    validation_steps=validation_generator.samples // batch_size)\n"
      ],
      "metadata": {
        "colab": {
          "base_uri": "https://localhost:8080/"
        },
        "id": "AUIO2SNVYpMz",
        "outputId": "aa97f2a3-896a-455a-a8e5-762c69526909"
      },
      "execution_count": 10,
      "outputs": [
        {
          "output_type": "stream",
          "name": "stdout",
          "text": [
            "Epoch 1/10\n",
            "8/8 [==============================] - 184s 23s/step - loss: 0.6003 - accuracy: 0.7436 - val_loss: 0.7349 - val_accuracy: 0.5156\n",
            "Epoch 2/10\n",
            "8/8 [==============================] - 181s 23s/step - loss: 0.5741 - accuracy: 0.6667 - val_loss: 0.4422 - val_accuracy: 0.7500\n",
            "Epoch 3/10\n",
            "8/8 [==============================] - 181s 23s/step - loss: 0.4817 - accuracy: 0.7564 - val_loss: 0.4283 - val_accuracy: 0.7500\n",
            "Epoch 4/10\n",
            "8/8 [==============================] - 182s 23s/step - loss: 0.4278 - accuracy: 0.8248 - val_loss: 0.4129 - val_accuracy: 0.7188\n",
            "Epoch 5/10\n",
            "8/8 [==============================] - 181s 23s/step - loss: 0.4463 - accuracy: 0.7778 - val_loss: 0.4174 - val_accuracy: 0.8594\n",
            "Epoch 6/10\n",
            "8/8 [==============================] - 178s 23s/step - loss: 0.4024 - accuracy: 0.7778 - val_loss: 0.3978 - val_accuracy: 0.6875\n",
            "Epoch 7/10\n",
            "8/8 [==============================] - 179s 23s/step - loss: 0.3684 - accuracy: 0.8248 - val_loss: 0.3487 - val_accuracy: 0.7969\n",
            "Epoch 8/10\n",
            "8/8 [==============================] - 181s 23s/step - loss: 0.3483 - accuracy: 0.8419 - val_loss: 0.3415 - val_accuracy: 0.8594\n",
            "Epoch 9/10\n",
            "8/8 [==============================] - 195s 25s/step - loss: 0.3354 - accuracy: 0.8516 - val_loss: 0.3634 - val_accuracy: 0.8438\n",
            "Epoch 10/10\n",
            "8/8 [==============================] - 181s 23s/step - loss: 0.3349 - accuracy: 0.8504 - val_loss: 0.2987 - val_accuracy: 0.8750\n"
          ]
        }
      ]
    },
    {
      "cell_type": "code",
      "source": [
        "# Step 6: Evaluation and Comparison\n",
        "# Evaluate the model on test data\n",
        "test_generator = train_datagen.flow_from_directory(\n",
        "    'Images_CNNTask',\n",
        "    target_size=(224, 224),  # Assuming VGG16 input size\n",
        "    batch_size=batch_size,\n",
        "    class_mode='categorical')"
      ],
      "metadata": {
        "colab": {
          "base_uri": "https://localhost:8080/"
        },
        "id": "6n5IfMpjgCMz",
        "outputId": "c6cb8474-e069-4892-d2ff-b98735588e1f"
      },
      "execution_count": 11,
      "outputs": [
        {
          "output_type": "stream",
          "name": "stdout",
          "text": [
            "Found 331 images belonging to 2 classes.\n"
          ]
        }
      ]
    },
    {
      "cell_type": "code",
      "source": [
        "test_loss, test_accuracy = model.evaluate(test_generator)\n",
        "print(\"Test Accuracy:\", test_accuracy)"
      ],
      "metadata": {
        "colab": {
          "base_uri": "https://localhost:8080/"
        },
        "id": "vRAfzsUqgHGC",
        "outputId": "881fef72-8b58-411b-f095-f7d29e42e841"
      },
      "execution_count": 12,
      "outputs": [
        {
          "output_type": "stream",
          "name": "stdout",
          "text": [
            "11/11 [==============================] - 199s 18s/step - loss: 0.3152 - accuracy: 0.8610\n",
            "Test Accuracy: 0.861027181148529\n"
          ]
        }
      ]
    },
    {
      "cell_type": "code",
      "source": [
        "# Predict classes for test data\n",
        "y_pred = model.predict(test_generator)\n",
        "y_true = test_generator.classes"
      ],
      "metadata": {
        "colab": {
          "base_uri": "https://localhost:8080/"
        },
        "id": "5KRNuGIPhq4w",
        "outputId": "6fc6cd36-a42d-4c90-d8ce-93bc96475923"
      },
      "execution_count": 13,
      "outputs": [
        {
          "output_type": "stream",
          "name": "stdout",
          "text": [
            "11/11 [==============================] - 199s 18s/step\n"
          ]
        }
      ]
    },
    {
      "cell_type": "code",
      "source": [
        "precision = precision_score(y_true, np.argmax(y_pred, axis=1))\n",
        "recall = recall_score(y_true, np.argmax(y_pred, axis=1))\n",
        "f1 = f1_score(y_true, np.argmax(y_pred, axis=1))\n",
        "\n",
        "print(\"Precision:\", precision)\n",
        "print(\"Recall:\", recall)\n",
        "print(\"F1 Score:\", f1)"
      ],
      "metadata": {
        "colab": {
          "base_uri": "https://localhost:8080/"
        },
        "id": "8sBp_a67ihZQ",
        "outputId": "911d1a83-d2c2-483a-80a7-d64590b8b6b3"
      },
      "execution_count": 14,
      "outputs": [
        {
          "output_type": "stream",
          "name": "stdout",
          "text": [
            "Precision: 0.7237354085603113\n",
            "Recall: 0.7654320987654321\n",
            "F1 Score: 0.744\n"
          ]
        }
      ]
    }
  ]
}